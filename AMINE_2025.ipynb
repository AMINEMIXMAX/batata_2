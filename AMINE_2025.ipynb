{
 "cells": [
  {
   "attachments": {},
   "cell_type": "markdown",
   "id": "b2eff53b-b12b-475d-9535-f537f95f7b8e",
   "metadata": {},
   "source": [
    "# Data Science Tools and Ecosystem"
   ]
  },
  {
   "attachments": {},
   "cell_type": "markdown",
   "id": "048c3012-ce27-4df5-9ed0-d5a8ba1bbcc1",
   "metadata": {},
   "source": [
    "# Exercise 3: Introduction \n",
    "In this notebook, we explore popular **data science tools, languages, and libraries**, and demonstrate basic arithmetic operations in Python."
   ]
  },
  {
   "attachments": {},
   "cell_type": "markdown",
   "id": "11a5f8e0-8253-4751-b164-520091c9c9a1",
   "metadata": {},
   "source": [
    "## Exercise 4: Data Science Languages\n",
    "## Popular Data Science Languages  :\n",
    "1. Python\n",
    "2. R\n",
    "3. SQL\n",
    "4. Julia\n"
   ]
  },
  {
   "attachments": {},
   "cell_type": "markdown",
   "id": "760a02f9-7b1e-400b-91a6-e69b09b7fc83",
   "metadata": {},
   "source": [
    "## Exercise 5: Data Science Librarie\n",
    "### Commonly Used Data Science Libraries \n",
    "- Pandas (Data manipulation)  \n",
    "- NumPy (Numerical computing)  \n",
    "- Scikit-learn (Machine Learning)  \n",
    "- TensorFlow (Deep Learning)  "
   ]
  },
  {
   "attachments": {},
   "cell_type": "markdown",
   "id": "4a4c0793-8cc4-4dac-bc23-1d8a9c5bc5d5",
   "metadata": {},
   "source": [
    "##  Exercise 6: Data Science Tools Table\n",
    "\n",
    "| Tool           | Purpose                          |\n",
    "|----------------|----------------------------------|\n",
    "| Jupyter        | Interactive notebooks            |\n",
    "| Git/GitHub     | Version control & collaboration  |\n",
    "| Apache Spark   | Big data processing              |"
   ]
  },
  {
   "attachments": {},
   "cell_type": "markdown",
   "id": "b583de37-4d2d-46b9-bb9d-ef7daff143d6",
   "metadata": {},
   "source": [
    "## Exercise 7: Arithmetic Expressions Intro\n",
    "Below are examples of basic arithmetic operations in Python:  \n",
    "- Addition (`+`), Subtraction (`-`), Multiplication (`*`), Division (`/`)  "
   ]
  },
  {
   "attachments": {},
   "cell_type": "markdown",
   "id": "300e6207",
   "metadata": {},
   "source": [
    "### Exercise 8: Multiply and Add Numbers"
   ]
  },
  {
   "cell_type": "code",
   "execution_count": null,
   "id": "948e6055",
   "metadata": {},
   "outputs": [],
   "source": [
    "result = (3 * 4) + 5\n",
    "print(\"Result:\", result) #This is an arithmetic expression to multiply the integers first and then add"
   ]
  },
  {
   "attachments": {},
   "cell_type": "markdown",
   "id": "bca65bef",
   "metadata": {},
   "source": [
    "### Exercise 9: Minutes to Hours Converter"
   ]
  },
  {
   "cell_type": "code",
   "execution_count": null,
   "id": "470837b9",
   "metadata": {},
   "outputs": [],
   "source": [
    "minutes = 200\n",
    "hours = minutes / 60\n",
    "print(f\"{minutes} minutes = {hours:.2f} hours\")  # Output: 3.33 hours"
   ]
  },
  {
   "attachments": {},
   "cell_type": "markdown",
   "id": "665b76e7",
   "metadata": {},
   "source": [
    "### Exercise 10: Objectives\n",
    "\n",
    "## Objectives  \n",
    "- List popular data science languages.  \n",
    "- Summarize key libraries and tools.  \n",
    "- Demonstrate Python arithmetic operations.  \n",
    "- Share the notebook via GitHub.  "
   ]
  },
  {
   "attachments": {},
   "cell_type": "markdown",
   "id": "3aa9dc8a-63f7-4ef2-bb52-547667ec052a",
   "metadata": {},
   "source": [
    "### Exercise 11: Author’s Name \n",
    "## Auhtor:\n",
    "Mohamed Amine"
   ]
  }
 ],
 "metadata": {
  "kernelspec": {
   "display_name": "Python 3",
   "language": "python",
   "name": "python3"
  },
  "language_info": {
   "codemirror_mode": {
    "name": "ipython",
    "version": 3
   },
   "file_extension": ".py",
   "mimetype": "text/x-python",
   "name": "python",
   "nbconvert_exporter": "python",
   "pygments_lexer": "ipython3",
   "version": "3.9.7"
  },
  "vscode": {
   "interpreter": {
    "hash": "f78f1e13a9958aefc5027eb4f8eabdf7c528c83c81fc3d7bd96e7cde64d8526c"
   }
  }
 },
 "nbformat": 4,
 "nbformat_minor": 5
}
